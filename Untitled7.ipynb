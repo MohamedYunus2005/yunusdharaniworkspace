{
  "nbformat": 4,
  "nbformat_minor": 0,
  "metadata": {
    "colab": {
      "provenance": [],
      "authorship_tag": "ABX9TyMd/xwIBtIRZUrrGvHw2cpq",
      "include_colab_link": true
    },
    "kernelspec": {
      "name": "python3",
      "display_name": "Python 3"
    },
    "language_info": {
      "name": "python"
    }
  },
  "cells": [
    {
      "cell_type": "markdown",
      "metadata": {
        "id": "view-in-github",
        "colab_type": "text"
      },
      "source": [
        "<a href=\"https://colab.research.google.com/github/MohamedYunus2005/yunusdharaniworkspace/blob/main/Untitled7.ipynb\" target=\"_parent\"><img src=\"https://colab.research.google.com/assets/colab-badge.svg\" alt=\"Open In Colab\"/></a>"
      ]
    },
    {
      "cell_type": "code",
      "execution_count": 3,
      "metadata": {
        "colab": {
          "base_uri": "https://localhost:8080/"
        },
        "id": "rLRdLVBzZffx",
        "outputId": "55907eb6-8cf0-446b-c95f-798cd7fae244"
      },
      "outputs": [
        {
          "output_type": "stream",
          "name": "stdout",
          "text": [
            "Mean Squared Error: 103737997.25651543\n",
            "R² Score: nan\n",
            "Predicted Price: 348425.9259259259\n"
          ]
        },
        {
          "output_type": "stream",
          "name": "stderr",
          "text": [
            "/usr/local/lib/python3.11/dist-packages/sklearn/metrics/_regression.py:1266: UndefinedMetricWarning: R^2 score is not well-defined with less than two samples.\n",
            "  warnings.warn(msg, UndefinedMetricWarning)\n"
          ]
        }
      ],
      "source": [
        "import pandas as pd\n",
        "from sklearn.datasets import load_diabetes\n",
        "from sklearn.linear_model import LinearRegression\n",
        "from sklearn.metrics import mean_squared_error, r2_score\n",
        "from sklearn.model_selection import train_test_split\n",
        "\n",
        "# Step 1: Load your dataset (replace with your actual dataset file)\n",
        "# Create a sample dataset for demonstration purposes\n",
        "data = {\n",
        "    \"Square_Footage\": [1500, 2000, 2500, 3000, 3500],\n",
        "    \"Bedrooms\": [3, 4, 3, 5, 4],\n",
        "    \"Location_Score\": [7, 8, 7, 9, 8],\n",
        "    \"Price\": [300000, 400000, 350000, 500000, 450000]\n",
        "}\n",
        "df = pd.DataFrame(data)\n",
        "# Step 2: Preprocess Data\n",
        "X = df[[\"Square_Footage\", \"Bedrooms\", \"Location_Score\"]]  # Features\n",
        "y = df[\"Price\"]  # Target variable\n",
        "\n",
        "# Step 3: Split dataset into training and testing sets\n",
        "X_train, X_test, y_train, y_test = train_test_split(X, y, test_size=0.2, random_state=42)\n",
        "\n",
        "# Step 4: Create the regression model and train it\n",
        "model = LinearRegression()\n",
        "model.fit(X_train, y_train)\n",
        "\n",
        "# Step 5: Predict house prices on the test set\n",
        "y_pred = model.predict(X_test)\n",
        "\n",
        "# Step 6: Evaluate the model\n",
        "mse = mean_squared_error(y_test, y_pred)\n",
        "r2 = r2_score(y_test, y_pred)\n",
        "\n",
        "print(\"Mean Squared Error:\", mse)\n",
        "print(\"R² Score:\", r2)\n",
        "\n",
        "# Step 7: Make predictions for new data\n",
        "new_data = pd.DataFrame({\n",
        "    \"Square_Footage\": [1800],\n",
        "    \"Bedrooms\": [3],\n",
        "    \"Location_Score\": [8]\n",
        "})\n",
        "predicted_price = model.predict(new_data)\n",
        "print(\"Predicted Price:\", predicted_price[0])\n"
      ]
    }
  ]
}